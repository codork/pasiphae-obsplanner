{
 "cells": [
  {
   "cell_type": "code",
   "execution_count": 16,
   "metadata": {},
   "outputs": [],
   "source": [
    "from astropy.coordinates import SkyCoord, ICRS\n",
    "from astropy import units as u\n",
    "from astropy.table import Table\n",
    "import numpy as np"
   ]
  },
  {
   "cell_type": "code",
   "execution_count": 17,
   "metadata": {},
   "outputs": [],
   "source": [
    "def hms2dec(h,m,s):\n",
    "  deg = 15*(h+(m/60)+(s/(60*60)))\n",
    "  return deg \n",
    "\n",
    "def dms2dec(d,arcm,arcs):\n",
    "  if(d>=0):\n",
    "    deg = d+(arcm/60) + (arcs/(60*60))\n",
    "  else:\n",
    "    deg = -(-d+(arcm/60) + (arcs/(60*60)))\n",
    "  return deg"
   ]
  },
  {
   "cell_type": "code",
   "execution_count": 18,
   "metadata": {},
   "outputs": [],
   "source": [
    "#returns list of field coordinates\n",
    "def import_coords():\n",
    "  cat = np.loadtxt('table2.dat', usecols=range(1,7)) #random list of coordinates for the purpose of simulation\n",
    "  coordlist = []\n",
    "  for i in range(cat.shape[0]):\n",
    "    ra = hms2dec(cat[i][0],cat[i][1],cat[i][2])\n",
    "    dec = dms2dec(cat[i][3],cat[i][4],cat[i][5])\n",
    "    mytuple = (i+1, ra, dec)\n",
    "    coordlist.append(mytuple)\n",
    "  t = Table(rows=coordlist, names=('#','RA','DEC'), meta={'name': 'Coords'}, dtype=('i4','f8','f8'))\n",
    "  return t"
   ]
  },
  {
   "cell_type": "code",
   "execution_count": 23,
   "metadata": {},
   "outputs": [],
   "source": [
    "from astropy.time import Time\n",
    "from astropy.coordinates import EarthLocation, AltAz\n",
    "\n",
    "def get_slewtime(ctable):\n",
    "    dome_rate = 3 #degrees/second\n",
    "    slewlist = []\n",
    "    i = 1\n",
    "    time = Time('2019-10-01 00:00:00')\n",
    "    mysite = EarthLocation.of_site('Sutherland')\n",
    "    \n",
    "    for j in range(0,50):    #for initial 2500 possible coordinate combinations\n",
    "        for k in range(0,50):\n",
    "            if j!=k:\n",
    "                f1 = SkyCoord(ra=ctable['RA'][j], dec=ctable['DEC'][j], frame='icrs', unit='deg')\n",
    "                f1_altaz = f1.transform_to(AltAz(obstime=time, location=mysite))\n",
    "                f2 = SkyCoord(ra=ctable['RA'][k], dec=ctable['DEC'][k], frame='icrs', unit='deg')\n",
    "                f2_altaz = f2.transform_to(AltAz(obstime=time, location=mysite))\n",
    "                \n",
    "                #get angular separation between current and candidate field center coords\n",
    "                sep = np.absolute(f2_altaz.az.deg - f1_altaz.az.deg) #-wrong - get ANGULAR sep\n",
    "                #get time needed to rotate through the sep\n",
    "                rot_time = dome_rate * sep \n",
    "                #check is dome rotation time is greater than telescope slew time\n",
    "                if rot_time > 15:\n",
    "                    higher_than_slew = True\n",
    "                else:\n",
    "                    higher_than_slew = False\n",
    "\n",
    "                slew = (i, {0:.2f}".format(ctable['RA'][j]), {0:.2f}".format(ctable['DEC'][j]), {0:.2f}".format(ctable['RA'][k]), {0:.2f}".format(ctable['DEC'][k]), {0:.2f}".format(sep), {0:.2f}".format(rot_time), higher_than_slew)\n",
    "                slewlist.append(slew)\n",
    "                i += 1\n",
    "        \n",
    "    slewtime = Table(rows=slewlist, names=('#','From RA','From DEC','To RA','To DEC','Separation', 'Rotation Time', 'Higher than slew'))\n",
    "    return slewtime\n",
    "        "
   ]
  },
  {
   "cell_type": "code",
   "execution_count": 24,
   "metadata": {
    "scrolled": true
   },
   "outputs": [
    {
     "name": "stdout",
     "output_type": "stream",
     "text": [
      " #          RA                 DEC        \n",
      "--- ------------------ -------------------\n",
      "  1 1.1485416666666666  -47.60530555555556\n",
      "  2 2.6496666666666666 -30.463416666666667\n",
      "  3 2.7552916666666665 -26.209194444444442\n",
      "  4 3.2495416666666666 -39.907333333333334\n",
      "  5 6.4549166666666675  -26.03686111111111\n",
      "  6  6.568333333333333  -35.21372222222222\n",
      "  7  9.561333333333334  -24.98386111111111\n",
      "  8 12.497833333333332             -57.641\n",
      "  9 12.789583333333333 -42.442361111111104\n",
      " 10 14.694333333333335            -56.9865\n",
      "...                ...                 ...\n",
      "310  353.4803333333333 -23.727999999999998\n",
      "311            353.687  -52.85538888888889\n",
      "312 354.05020833333333  -52.60613888888889\n",
      "313 356.30195833333335 -15.918888888888889\n",
      "314 357.01095833333335              -16.52\n",
      "315          358.62575 -15.219805555555556\n",
      "316 359.00279166666667  -68.33433333333333\n",
      "317 359.47254166666664  -53.18680555555555\n",
      "318 359.50887499999993  -45.92188888888889\n",
      "319 359.76958333333334  -60.91697222222222\n",
      "320 359.89754166666665 -31.562472222222222\n",
      "Length = 320 rows\n"
     ]
    },
    {
     "data": {
      "text/html": [
       "<i>Table length=2500</i>\n",
       "<table id=\"table140401676551728\" class=\"table-striped table-bordered table-condensed\">\n",
       "<thead><tr><th>#</th><th>From RA</th><th>From DEC</th><th>To RA</th><th>To DEC</th><th>Separation</th><th>Rotation Time</th><th>Higher than slew</th></tr></thead>\n",
       "<thead><tr><th>int64</th><th>float64</th><th>float64</th><th>float64</th><th>float64</th><th>float64</th><th>float64</th><th>bool</th></tr></thead>\n",
       "<tr><td>1</td><td>1.1485416666666666</td><td>-47.60530555555556</td><td>1.1485416666666666</td><td>-47.60530555555556</td><td>0.0</td><td>0.0</td><td>False</td></tr>\n",
       "<tr><td>2</td><td>1.1485416666666666</td><td>-47.60530555555556</td><td>2.6496666666666666</td><td>-30.463416666666667</td><td>40.80317518816696</td><td>122.40952556450088</td><td>True</td></tr>\n",
       "<tr><td>3</td><td>1.1485416666666666</td><td>-47.60530555555556</td><td>2.7552916666666665</td><td>-26.209194444444442</td><td>50.9225241450298</td><td>152.7675724350894</td><td>True</td></tr>\n",
       "<tr><td>4</td><td>1.1485416666666666</td><td>-47.60530555555556</td><td>3.2495416666666666</td><td>-39.907333333333334</td><td>16.560190296690934</td><td>49.6805708900728</td><td>True</td></tr>\n",
       "<tr><td>5</td><td>1.1485416666666666</td><td>-47.60530555555556</td><td>6.4549166666666675</td><td>-26.03686111111111</td><td>54.53147057906091</td><td>163.59441173718272</td><td>True</td></tr>\n",
       "<tr><td>6</td><td>1.1485416666666666</td><td>-47.60530555555556</td><td>6.568333333333333</td><td>-35.21372222222222</td><td>28.731851463712843</td><td>86.19555439113853</td><td>True</td></tr>\n",
       "<tr><td>7</td><td>1.1485416666666666</td><td>-47.60530555555556</td><td>9.561333333333334</td><td>-24.98386111111111</td><td>60.67391272657676</td><td>182.02173817973028</td><td>True</td></tr>\n",
       "<tr><td>8</td><td>1.1485416666666666</td><td>-47.60530555555556</td><td>12.497833333333332</td><td>-57.641</td><td>26.59304230813234</td><td>79.77912692439702</td><td>True</td></tr>\n",
       "<tr><td>9</td><td>1.1485416666666666</td><td>-47.60530555555556</td><td>12.789583333333333</td><td>-42.442361111111104</td><td>2.1038201473830043</td><td>6.311460442149013</td><td>False</td></tr>\n",
       "<tr><td>10</td><td>1.1485416666666666</td><td>-47.60530555555556</td><td>14.694333333333335</td><td>-56.9865</td><td>28.06006937994158</td><td>84.18020813982474</td><td>True</td></tr>\n",
       "<tr><td>...</td><td>...</td><td>...</td><td>...</td><td>...</td><td>...</td><td>...</td><td>...</td></tr>\n",
       "<tr><td>2491</td><td>61.74575</td><td>-38.44097222222222</td><td>52.47541666666667</td><td>-23.952416666666664</td><td>39.69109209544543</td><td>119.07327628633628</td><td>True</td></tr>\n",
       "<tr><td>2492</td><td>61.74575</td><td>-38.44097222222222</td><td>53.556749999999994</td><td>-40.14036111111111</td><td>6.718792735041546</td><td>20.15637820512464</td><td>True</td></tr>\n",
       "<tr><td>2493</td><td>61.74575</td><td>-38.44097222222222</td><td>54.2255</td><td>-36.26833333333333</td><td>4.543119437118179</td><td>13.629358311354537</td><td>False</td></tr>\n",
       "<tr><td>2494</td><td>61.74575</td><td>-38.44097222222222</td><td>55.14854166666666</td><td>-21.325222222222223</td><td>42.31611939667444</td><td>126.94835819002331</td><td>True</td></tr>\n",
       "<tr><td>2495</td><td>61.74575</td><td>-38.44097222222222</td><td>57.15879166666666</td><td>-27.82038888888889</td><td>26.141702389916304</td><td>78.42510716974891</td><td>True</td></tr>\n",
       "<tr><td>2496</td><td>61.74575</td><td>-38.44097222222222</td><td>57.163666666666664</td><td>-16.171444444444447</td><td>49.12447869338288</td><td>147.37343608014865</td><td>True</td></tr>\n",
       "<tr><td>2497</td><td>61.74575</td><td>-38.44097222222222</td><td>57.490916666666664</td><td>-21.046444444444447</td><td>40.26403371917043</td><td>120.79210115751128</td><td>True</td></tr>\n",
       "<tr><td>2498</td><td>61.74575</td><td>-38.44097222222222</td><td>58.045833333333334</td><td>-25.24727777777778</td><td>31.254701253562985</td><td>93.76410376068895</td><td>True</td></tr>\n",
       "<tr><td>2499</td><td>61.74575</td><td>-38.44097222222222</td><td>60.974041666666665</td><td>-36.08358333333334</td><td>5.34102038109053</td><td>16.02306114327159</td><td>True</td></tr>\n",
       "<tr><td>2500</td><td>61.74575</td><td>-38.44097222222222</td><td>61.74575</td><td>-38.44097222222222</td><td>0.0</td><td>0.0</td><td>False</td></tr>\n",
       "</table>"
      ],
      "text/plain": [
       "<Table length=2500>\n",
       "  #        From RA       ...   Rotation Time    Higher than slew\n",
       "int64      float64       ...      float64             bool      \n",
       "----- ------------------ ... ------------------ ----------------\n",
       "    1 1.1485416666666666 ...                0.0            False\n",
       "    2 1.1485416666666666 ... 122.40952556450088             True\n",
       "    3 1.1485416666666666 ...  152.7675724350894             True\n",
       "    4 1.1485416666666666 ...   49.6805708900728             True\n",
       "    5 1.1485416666666666 ... 163.59441173718272             True\n",
       "    6 1.1485416666666666 ...  86.19555439113853             True\n",
       "    7 1.1485416666666666 ... 182.02173817973028             True\n",
       "    8 1.1485416666666666 ...  79.77912692439702             True\n",
       "    9 1.1485416666666666 ...  6.311460442149013            False\n",
       "   10 1.1485416666666666 ...  84.18020813982474             True\n",
       "  ...                ... ...                ...              ...\n",
       " 2491           61.74575 ... 119.07327628633628             True\n",
       " 2492           61.74575 ...  20.15637820512464             True\n",
       " 2493           61.74575 ... 13.629358311354537            False\n",
       " 2494           61.74575 ... 126.94835819002331             True\n",
       " 2495           61.74575 ...  78.42510716974891             True\n",
       " 2496           61.74575 ... 147.37343608014865             True\n",
       " 2497           61.74575 ... 120.79210115751128             True\n",
       " 2498           61.74575 ...  93.76410376068895             True\n",
       " 2499           61.74575 ...  16.02306114327159             True\n",
       " 2500           61.74575 ...                0.0            False"
      ]
     },
     "metadata": {},
     "output_type": "display_data"
    }
   ],
   "source": [
    "def generate_tables():\n",
    "    t = import_coords()\n",
    "    slew_table = get_slewtime(t)\n",
    "    display(slew_table)"
   ]
  },
  {
   "cell_type": "code",
   "execution_count": null,
   "metadata": {},
   "outputs": [],
   "source": []
  }
 ],
 "metadata": {
  "kernelspec": {
   "display_name": "Python 3",
   "language": "python",
   "name": "python3"
  },
  "language_info": {
   "codemirror_mode": {
    "name": "ipython",
    "version": 3
   },
   "file_extension": ".py",
   "mimetype": "text/x-python",
   "name": "python",
   "nbconvert_exporter": "python",
   "pygments_lexer": "ipython3",
   "version": "3.6.8"
  }
 },
 "nbformat": 4,
 "nbformat_minor": 2
}
